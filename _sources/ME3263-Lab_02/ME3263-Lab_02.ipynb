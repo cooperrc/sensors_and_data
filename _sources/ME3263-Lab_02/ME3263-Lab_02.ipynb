{
 "cells": [
  {
   "cell_type": "code",
   "execution_count": 6,
   "metadata": {},
   "outputs": [],
   "source": [
    "import numpy as np\n",
    "from scipy.stats import norm, t\n",
    "\n",
    "import matplotlib.pyplot as plt\n",
    "import pandas as pd\n",
    "plt.rcParams.update({'font.size': 22})\n",
    "plt.rcParams['lines.linewidth'] = 3\n",
    "\n",
    "import check_lab02 as p"
   ]
  },
  {
   "cell_type": "markdown",
   "metadata": {},
   "source": [
    "Note: If you download this notebook to edit offline in the computer lab, you will need [this file](https://raw.githubusercontent.com/cooperrc/sensors_and_data/master/ME3263-Lab_02/check_lab02.py) (right click -> save as) in the same directory as the .ipynb file\n",
    "\n",
    "# ME 3263 - Laboratory #2 \n",
    "\n",
    "## What is a Strain Gauge?\n",
    "\n",
    "A strain gauge consists of a looped wire that is embedded in a thin backing. Two\n",
    "copper coated tabs serve as solder points for the leads. See Figure 1a. The\n",
    "strain gauge is mounted to the structure, whose deformation is to be measured. As\n",
    "the structure deforms, the wire stretches (increasing its net length ) and its\n",
    "electrical resistance changes: $R=\\rho L/A$, where $\\rho$ is the material\n",
    "resistivity, $L$ is the total length of the wire, and $A$ is the cross sectional\n",
    "area of the wire.  Note that as $L$ increases, the cross sectional area changes as\n",
    "well due to the Poisson contraction; the resistivity also changes."
   ]
  },
  {
   "cell_type": "markdown",
   "metadata": {},
   "source": [
    "![Figure 1: a) A typical strain gauge. b) One common setup: the gauge is\n",
    "mounted to measure the x-direction strain on the top surface. It's\n",
    "engaged in a quarter bridge configuration of the Wheatstone bridge\n",
    "circuit.](./figure_01.png)\n",
    "\n",
    "*Figure 1: a) A typical strain gauge. b) One common setup: the gauge is\n",
    "mounted to measure the x-direction strain on the top surface. It's\n",
    "engaged in a quarter bridge configuration of the Wheatstone bridge\n",
    "circuit.*"
   ]
  },
  {
   "cell_type": "markdown",
   "metadata": {},
   "source": [
    "# Validating static strain gauge measurements\n",
    "\n",
    "In this lab we will calibrate strain measurements using Euler-Bernouli beam theory\n",
    "kinematics \\[1\\]. The axial strain in a beam is directly proportional to the distance\n",
    "from the neutral axis and curvature:"
   ]
  },
  {
   "cell_type": "markdown",
   "metadata": {},
   "source": [
    "$\\epsilon_x=-\\kappa z$. (1)\n",
    "\n",
    "Where $\\epsilon_x$ is the strain in the material, $z$ is the distance from the neutral axis, and $\\kappa$ is the curvature of the beam. $\\kappa$ is approximated as the second derivative of the displacement of the center axis:\n",
    "\n",
    "$\\kappa=\\frac{d^2 w}{dx^2}$. (2)\n",
    "\n",
    "Equations 1 and 2 relate beam deflection to axial strain. These are called\n",
    "kinematic equations because they define the geometry of the beam deflection. \n",
    "\n",
    "The Euler-Bernouli beam theory uses Newton's second law (kinetics) and Hooke's\n",
    "law (constitutive) to derive the linear equations of motion for one dimensional\n",
    "deformable objects \\[1,4\\]. The relation between a _static applied force_ $q(x)$ and _static\n",
    "deflection_ $w(x)$ is:\n",
    "\n",
    "$\\frac{\\partial^2}{\\partial x^2}\\left(EI\\frac{\\partial^2 w}{\\partial\n",
    "x^2}\\right)=q(x)$ (3)\n",
    "\n",
    "where $E$ is the Young's modulus, $x$ is the distance along the neutral axis,\n",
    "and $I$ is the second moment of area of the beam's cross-section. For a\n",
    "rectangular cross-section $b \\times t$, width by thickness the second moment of\n",
    "area is:\n",
    "\n",
    "$I=\\frac{bt^3}{12}$. (4)"
   ]
  },
  {
   "cell_type": "markdown",
   "metadata": {},
   "source": [
    "We can design our strain gage validation such that $E$ and $I$ are not necessary. A cantilevered (clamped) beam of length $L$ that is deflected by a distance $\\delta$ at the free end has the following boundary conditions for its static deflection:\n",
    "\n",
    "$w(0)=0$, $w'(0)=0$, $w(L)=\\delta$, and $w''(L)=0$\n",
    "\n",
    "Therefore, the functions $w(x)$ and $w''(x)$ can be determined by integrating equation 3 four times and using the four boundary conditions:\n",
    "\n",
    "$w(x)=-\\frac{1}{2}\\left(\\frac{\\delta}{L^3}x^3-3\\frac{\\delta}{L^2}x^2\\right)$ (5a)\n",
    "\n",
    "and the curvature \n",
    "\n",
    "$w''(x)=-\\left(3\\frac{\\delta}{L^3}x-3\\frac{\\delta}{L^2}\\right)$ (5b)"
   ]
  },
  {
   "cell_type": "markdown",
   "metadata": {},
   "source": [
    "Using equations 1,2, and 5, the only quantities needed to determine strain at a given\n",
    "location on a linear, homogeneous beam are $z$, $\\delta$, and $L$. \n",
    "  \n",
    "Below are two functions that calculate displacement and curvature given a cantilevered beam of length `L` that is deflected by a distance `delta` at its free end."
   ]
  },
  {
   "cell_type": "code",
   "execution_count": 8,
   "metadata": {
    "tags": []
   },
   "outputs": [],
   "source": [
    "def disp_at_x(x,L,delta):\n",
    "    '''returns the displacement w(x) given the position, x, \n",
    "    length of bar, L, and displacement at L, delta'''\n",
    "    wx=-1/2*(delta/L**3*x**3-3*delta/L**2*x**2)\n",
    "    return wx\n",
    "\n",
    "def k_at_x(x,L,delta):\n",
    "    '''returns the curvature w''(x) given the position, x, \n",
    "    length of bar, L, and displacement at L, delta'''\n",
    "    wx=-(3*delta/L**3*x-3*delta/L**2)\n",
    "    return wx\n"
   ]
  },
  {
   "cell_type": "code",
   "execution_count": 9,
   "metadata": {},
   "outputs": [
    {
     "name": "stdout",
     "output_type": "stream",
     "text": [
      "displacement of 400 mm bar deflected 10 mm, 20 mm from support =0.037 mm\n",
      "   curvature of 400 mm bar deflected 10 mm, 20 mm from support =0.178 1/m\n"
     ]
    }
   ],
   "source": [
    "w20mm=disp_at_x(20,400,10)\n",
    "k20mm=k_at_x(20,400,10)\n",
    "print('displacement of 400 mm bar deflected 10 mm, 20 mm from support =%1.3f mm'%w20mm)\n",
    "print('   curvature of 400 mm bar deflected 10 mm, 20 mm from support =%1.3f 1/m'%(k20mm*1000))"
   ]
  },
  {
   "cell_type": "markdown",
   "metadata": {},
   "source": [
    "### Example Problem 1\n",
    "\n",
    "If your beam is 400 mm long by 10 mm thick and it deflects 15 mm at the tip, determine the following:\n",
    "\n",
    "a. displacement of the beam 20 mm from the base. Save as `w20`\n",
    "\n",
    "b. the curvature of the beam 20 mm from the base. Save as `k20`  \n",
    "\n",
    "c. the strain of the beam 20 mm from the base. Save as `e20` "
   ]
  },
  {
   "cell_type": "code",
   "execution_count": 2,
   "metadata": {},
   "outputs": [
    {
     "ename": "NameError",
     "evalue": "name 'w20' is not defined",
     "output_type": "error",
     "traceback": [
      "\u001b[1;31m---------------------------------------------------------------------------\u001b[0m",
      "\u001b[1;31mNameError\u001b[0m                                 Traceback (most recent call last)",
      "\u001b[1;32m<ipython-input-2-54840a87e979>\u001b[0m in \u001b[0;36m<module>\u001b[1;34m\u001b[0m\n\u001b[0;32m      1\u001b[0m \u001b[1;31m# your work here\u001b[0m\u001b[1;33m\u001b[0m\u001b[1;33m\u001b[0m\u001b[1;33m\u001b[0m\u001b[0m\n\u001b[0;32m      2\u001b[0m \u001b[1;33m\u001b[0m\u001b[0m\n\u001b[1;32m----> 3\u001b[1;33m \u001b[0mp\u001b[0m\u001b[1;33m.\u001b[0m\u001b[0mcheck_p01\u001b[0m\u001b[1;33m(\u001b[0m\u001b[0mw20\u001b[0m\u001b[1;33m,\u001b[0m\u001b[0mk20\u001b[0m\u001b[1;33m,\u001b[0m\u001b[0me20\u001b[0m\u001b[1;33m)\u001b[0m\u001b[1;33m\u001b[0m\u001b[1;33m\u001b[0m\u001b[0m\n\u001b[0m",
      "\u001b[1;31mNameError\u001b[0m: name 'w20' is not defined"
     ]
    }
   ],
   "source": [
    "# your work here\n",
    "\n",
    "p.check_p01(w20,k20,e20)"
   ]
  },
  {
   "cell_type": "markdown",
   "metadata": {},
   "source": [
    "## Visualizing deflection and curvature\n",
    "\n",
    "We can use the above expressions for $w$ and $w''$ to plot the deflection and curvature of a cantilevered beam:"
   ]
  },
  {
   "cell_type": "code",
   "execution_count": 10,
   "metadata": {},
   "outputs": [
    {
     "data": {
      "text/plain": [
       "Text(0.5, 1.0, 'Shape of deflected cantilever beam')"
      ]
     },
     "execution_count": 10,
     "metadata": {},
     "output_type": "execute_result"
    },
    {
     "data": {
      "image/png": "[encoded data removed]",
      "text/plain": [
       "<Figure size 432x288 with 1 Axes>"
      ]
     },
     "metadata": {
      "needs_background": "light"
     },
     "output_type": "display_data"
    }
   ],
   "source": [
    "x=np.linspace(0,400)\n",
    "wx=disp_at_x(x,400,10)\n",
    "plt.plot(x,wx)\n",
    "plt.xlabel('position along beam (mm)')\n",
    "plt.ylabel('deflection of neutral \\naxis w(x) (mm)')\n",
    "plt.title('Shape of deflected cantilever beam')"
   ]
  },
  {
   "cell_type": "code",
   "execution_count": 11,
   "metadata": {},
   "outputs": [
    {
     "data": {
      "text/plain": [
       "Text(0.5, 1.0, 'Curvature of deflected cantilever beam')"
      ]
     },
     "execution_count": 11,
     "metadata": {},
     "output_type": "execute_result"
    },
    {
     "data": {
      "image/png": "[encoded data removed]",
      "text/plain": [
       "<Figure size 432x288 with 1 Axes>"
      ]
     },
     "metadata": {
      "needs_background": "light"
     },
     "output_type": "display_data"
    }
   ],
   "source": [
    "x=np.linspace(0,400)\n",
    "kx=k_at_x(x,400,10)\n",
    "plt.plot(x,kx*1000)\n",
    "plt.xlabel('position along beam (mm)')\n",
    "plt.ylabel('curvature of neutral \\naxis \\\\w(x) (1/m)')\n",
    "plt.title('Curvature of deflected cantilever beam')"
   ]
  },
  {
   "cell_type": "markdown",
   "metadata": {},
   "source": [
    "### Example Problem 2\n",
    "\n",
    "If your beam is 400 mm long by 10 mm thick and it deflects 15 mm at the tip, determine the position along the beam for the following:\n",
    "\n",
    "a. Where is the maximum deflection in the beam? save as `x_max_defl`\n",
    "\n",
    "b. Where is the maximum curvature in the beam? save as `x_max_curv`\n",
    "\n",
    "c. Where is the maximum strain in the beam? save as `x_max_strain`"
   ]
  },
  {
   "cell_type": "code",
   "execution_count": 3,
   "metadata": {},
   "outputs": [
    {
     "ename": "NameError",
     "evalue": "name 'x_max_defl' is not defined",
     "output_type": "error",
     "traceback": [
      "\u001b[1;31m---------------------------------------------------------------------------\u001b[0m",
      "\u001b[1;31mNameError\u001b[0m                                 Traceback (most recent call last)",
      "\u001b[1;32m<ipython-input-3-ec3929850900>\u001b[0m in \u001b[0;36m<module>\u001b[1;34m\u001b[0m\n\u001b[0;32m      1\u001b[0m \u001b[1;31m#your work here\u001b[0m\u001b[1;33m\u001b[0m\u001b[1;33m\u001b[0m\u001b[1;33m\u001b[0m\u001b[0m\n\u001b[0;32m      2\u001b[0m \u001b[1;33m\u001b[0m\u001b[0m\n\u001b[1;32m----> 3\u001b[1;33m \u001b[0mp\u001b[0m\u001b[1;33m.\u001b[0m\u001b[0mcheck_p02\u001b[0m\u001b[1;33m(\u001b[0m\u001b[0mx_max_defl\u001b[0m\u001b[1;33m,\u001b[0m\u001b[0mx_max_curv\u001b[0m\u001b[1;33m,\u001b[0m\u001b[0mx_max_strain\u001b[0m\u001b[1;33m)\u001b[0m\u001b[1;33m\u001b[0m\u001b[1;33m\u001b[0m\u001b[0m\n\u001b[0m",
      "\u001b[1;31mNameError\u001b[0m: name 'x_max_defl' is not defined"
     ]
    }
   ],
   "source": [
    "#your work here\n",
    "\n",
    "p.check_p02(x_max_defl,x_max_curv,x_max_strain)"
   ]
  },
  {
   "cell_type": "markdown",
   "metadata": {},
   "source": [
    "# Task 1: Validate Strain Gauge Measurements\n",
    "\n",
    "![Figure 2: Diagram of the validation process. The strain gage is placed at a distance $x_{SG}$ from the cantilever support. A linear-elastic beam of length $L$ is deflected by distance, $\\delta$.](https://raw.githubusercontent.com/cooperrc/sensors_and_data/master/ME3263-Lab_02/figure_02.png)\n",
    "\n",
    "*Figure 2: Diagram of the validation process. The strain gauge is placed at a distance $x_{SG}$ from the cantilever support. A linear-elastic beam of length $L$ is deflected by distance, $\\delta$.*\n",
    "\n",
    "-   Apply a known tip displacement  as seen in Figure 2.  \n",
    "\n",
    "-   Measure and record the strain at your strain gage location, the displacement, $\\delta$, and position where load was applied,\n",
    "    $L$.\n",
    "\n",
    "-   Calculate the strain at the location of the strain gage using equations 1,2,\n",
    "    and 5a-b.\n",
    "    \n",
    "-   Compare the calculated and measured strain values    "
   ]
  },
  {
   "cell_type": "markdown",
   "metadata": {},
   "source": [
    "# Measuring constitutive properties\n",
    "\n",
    "## Constitutive Model\n",
    "Now that the strain gauge has been calibrated, we can use it to determine constitutive properties of our workpiece. Using measurements of strain, we wish to determine the Young's modulus of the beam, $E$. This measurement requires three components: kinematic (the geometric equations solved in the validation), kinetic ($\\sum{F}=0$), and a constitutive model (Hooke's Law). The constitutive equation for a linear-elastic beam subject to an applied moment is:\n",
    "\n",
    "$M=EI\\kappa$. (6)\n",
    "\n",
    "where $M$ is the applied moment, $E$ is the Young's modulus, $I$ is the second moment of inertia of the area of the beam, and $\\kappa$ is the curvature of the beam. The constant $I$ is based upon the geometry from equation 4 ($I=\\frac{bt^3}{12}$). The material constant $E$ is unknown. \n",
    "\n",
    "# Task 2: Collect Data for a Constitutive Model\n",
    "\n",
    "![Figure 3: A linear-elastic beam of length $L$ has a force applied at distance, $r$. \n",
    "The strain gauge is placed at a distance $x_{SG}$ from the cantilever support.](https://raw.githubusercontent.com/cooperrc/sensors_and_data/master/ME3263-Lab_02/figure_03.png)\n",
    "\n",
    "*Figure 3: A linear-elastic beam of length $L$ has a force applied at distance, $r$. \n",
    "The strain gauge is placed at a distance $x$ from the cantilever support.*\n",
    "\n",
    "- Measure and record the length, width, and thickness of your beam for use in calculating the second moment of area. Remember that your ruler can only record to the millimeter, and your calipers to the hundredth of a millimeter.\n",
    "\n",
    "- There are notches cut into your beam. Use them to attach varying weights to apply forces at varying distances, $r$, from the support (as seen in Figure 3). Increasing the weight or the distance at which the weight is applied will increase the applied moment. \n",
    "\n",
    "- Record the trial no., strain, force, distance, and moment for each combination of weight and distance. Use at least two trials per measurement. \n"
   ]
  },
  {
   "cell_type": "markdown",
   "metadata": {},
   "source": [
    "# Fitting your data to your model\n",
    "\n",
    "Once you have collected a number of data points for $\\kappa$ and $M$, you can use a linear regression to determine the slope of the data. The constitutive model in equation (6) predicts that the moment and curvature will be related by a proportional constant, $EI$. If we know $EI$, the total squared error is as such\n",
    "\n",
    "$SSE=\\sum_i^N{(M_i-EI\\kappa_i)^2}$ (7)\n",
    "\n",
    "where SSE is the sum of squares error between the predicted moment and measured moment for the $i^{th}$ measurement with $N$ total measurements [\\[2\\]](https://www.amazon.com/Numerical-Methods-Engineers-Steven-Chapra/dp/0073401064). We can choose a of $EI$ that minimizes $SSE$, but it will never be zero. Below is an example calculation for a linear least squares regression in python for a beam with cross-section $12\\times3$ mm."
   ]
  },
  {
   "cell_type": "code",
   "execution_count": 13,
   "metadata": {},
   "outputs": [],
   "source": [
    "k=np.array([6.95685737e-07, 9.93992373e-06, 3.25200211e-05, 3.55750721e-05,\n",
    "       5.32023782e-05, 7.48128585e-05, 7.61625461e-05, 8.54476229e-05,\n",
    "       1.02089509e-04, 1.02841452e-04, 1.32351731e-04, 1.43996022e-04,\n",
    "       1.45204793e-04, 1.56867759e-04, 1.73435915e-04, 1.95625232e-04,\n",
    "       2.00670618e-04, 2.12900332e-04, 2.24582886e-04, 2.41141396e-04,\n",
    "       2.45991618e-04, 2.55608426e-04, 2.76117673e-04, 2.96128593e-04,\n",
    "       3.07157389e-04, 3.20509718e-04, 3.20363196e-04, 3.35535814e-04,\n",
    "       3.53706984e-04, 3.64130433e-04])\n",
    "M=np.array([ 0.        ,  23.82866379,  47.65732759,  71.48599138,\n",
    "        95.31465517, 119.14331897, 142.97198276, 166.80064655,\n",
    "       190.62931034, 214.45797414, 238.28663793, 262.11530172,\n",
    "       285.94396552, 309.77262931, 333.6012931 , 357.4299569 ,\n",
    "       381.25862069, 405.08728448, 428.91594828, 452.74461207,\n",
    "       476.57327586, 500.40193966, 524.23060345, 548.05926724,\n",
    "       571.88793103, 595.71659483, 619.54525862, 643.37392241,\n",
    "       667.20258621, 691.03125   ])"
   ]
  },
  {
   "cell_type": "code",
   "execution_count": 14,
   "metadata": {},
   "outputs": [
    {
     "name": "stdout",
     "output_type": "stream",
     "text": [
      "Best fit for Young's Modulus is 70.2 +/- 0.3 GPa\n"
     ]
    },
    {
     "data": {
      "text/plain": [
       "Text(0, 0.5, 'Moment (N-mm)')"
      ]
     },
     "execution_count": 14,
     "metadata": {},
     "output_type": "execute_result"
    },
    {
     "data": {
      "image/png": "[encoded data removed]",
      "text/plain": [
       "<Figure size 432x288 with 1 Axes>"
      ]
     },
     "metadata": {
      "needs_background": "light"
     },
     "output_type": "display_data"
    }
   ],
   "source": [
    "from scipy.optimize import curve_fit\n",
    "\n",
    "def func(x,EI):\n",
    "    return EI*x\n",
    "\n",
    "EI,pcov=curve_fit(func, k, M)\n",
    "EI_error=np.sqrt(pcov[0,0])\n",
    "I=12*3**3/12.0\n",
    "print(\"Best fit for Young's Modulus is %1.1f +/- %1.1f GPa\"%(EI/I*1e-3,EI_error/I*1e-3))\n",
    "\n",
    "plt.plot(k*1e3,M,'o',label='experiment')\n",
    "plt.plot(k*1e3,func(k,EI),label='model')\n",
    "plt.legend()\n",
    "plt.xlabel('curvature (1/m)')\n",
    "plt.ylabel('Moment (N-mm)')"
   ]
  },
  {
   "cell_type": "markdown",
   "metadata": {},
   "source": [
    "*Note:*\n",
    "\n",
    "The least-squares method used above can be used to fit any function to a data set. You would just need to update the `func` definition to return the desired function based upon your unkown fitting constants. \n",
    "\n",
    "The outout `popt` is the covariance matrix [\\[3\\]](./least_squares-error_with_covariance.pdf). In practice, we can use the square root of the diagonal terms to estimate the error in our least-squares fit. We make a few assumptions when performing this best-fit:\n",
    "\n",
    "1. There is a random error in the measured  dependent variable (here the moment $M$). \n",
    "\n",
    "2. There is no error in the reported independent variable (here the curvature $\\kappa$).\n",
    "\n",
    "3. The measured dependent variables are uncorrelated with the measured error\n",
    "\n",
    "4. The random error has a mean of zero\n",
    "\n",
    "We can test assumption 4 by plotting the \"residuals\" of the fit i.e. the error. The plot below demonstrates that our data has a mean error of 0 and is uncorrelated with the random error. \n",
    "\n",
    "Our best-fit model has removed _systematic uncertainty_, but it cannot account for _random uncertainty._"
   ]
  },
  {
   "cell_type": "code",
   "execution_count": 25,
   "metadata": {},
   "outputs": [
    {
     "data": {
      "text/plain": [
       "Text(0,0.5,'Error=$M-EI\\\\kappa$')"
      ]
     },
     "execution_count": 25,
     "metadata": {},
     "output_type": "execute_result"
    },
    {
     "data": {
      "image/png": "[encoded data removed]",
      "text/plain": [
       "<Figure size 432x288 with 1 Axes>"
      ]
     },
     "metadata": {},
     "output_type": "display_data"
    }
   ],
   "source": [
    "plt.plot(k*1e3,M-func(k,EI),'o')\n",
    "plt.xlabel('curvature (1/m)')\n",
    "plt.ylabel(r'Error=$M-EI\\kappa$')"
   ]
  },
  {
   "cell_type": "markdown",
   "metadata": {},
   "source": [
    "# Task 3: Determine Young's Modulus\n",
    "\n",
    "- Using a linear least squares regression, determine the Young's modulus, $E$, of your beam"
   ]
  },
  {
   "cell_type": "markdown",
   "metadata": {},
   "source": [
    "# Propagation of Error\n",
    "\n",
    "If the physical quantities involved in the calculation (e.g., the thickness of the beam) are not measured properly, you can have large systematic errors in your results. \n",
    "\n",
    "## Example Problem 3\n",
    "\n",
    "In the example E calculation above, the width of the beam was 12 mm and the thickness of the beam was 3 mm. On the line, \n",
    "\n",
    "`I = 12*3**3/12.0`\n",
    "\n",
    "Change the thickness to 3.1 mm and calculate $E$. Save the value as `E31`\n"
   ]
  },
  {
   "cell_type": "code",
   "execution_count": 4,
   "metadata": {},
   "outputs": [
    {
     "ename": "NameError",
     "evalue": "name 'E31' is not defined",
     "output_type": "error",
     "traceback": [
      "\u001b[1;31m---------------------------------------------------------------------------\u001b[0m",
      "\u001b[1;31mNameError\u001b[0m                                 Traceback (most recent call last)",
      "\u001b[1;32m<ipython-input-4-1e6b442bf583>\u001b[0m in \u001b[0;36m<module>\u001b[1;34m\u001b[0m\n\u001b[0;32m      1\u001b[0m \u001b[1;31m# Your work here\u001b[0m\u001b[1;33m\u001b[0m\u001b[1;33m\u001b[0m\u001b[1;33m\u001b[0m\u001b[0m\n\u001b[0;32m      2\u001b[0m \u001b[1;33m\u001b[0m\u001b[0m\n\u001b[1;32m----> 3\u001b[1;33m \u001b[0mp\u001b[0m\u001b[1;33m.\u001b[0m\u001b[0mcheck_p03\u001b[0m\u001b[1;33m(\u001b[0m\u001b[0mE31\u001b[0m\u001b[1;33m)\u001b[0m\u001b[1;33m\u001b[0m\u001b[1;33m\u001b[0m\u001b[0m\n\u001b[0m",
      "\u001b[1;31mNameError\u001b[0m: name 'E31' is not defined"
     ]
    }
   ],
   "source": [
    "# Your work here\n",
    "\n",
    "p.check_p03(E31)"
   ]
  },
  {
   "cell_type": "markdown",
   "metadata": {},
   "source": [
    "# Task 4: Determine the uncertainty in your estimate of Young's modulus\n",
    "\n",
    "Each measurement you have taken over the course of this lab has its own associated uncertainty, and that uncertainty propagates through any calculated quantities. Your calculations of moment of inertia from geometry of the beam: $I=\\frac{bt^3}{12}$, curvature from strain: $\\kappa=-\\frac{\\epsilon}{z}$, and moment from applied mass: $M=rF$ all possess uncertainties due to the measured quantities involved in their calculation.\n",
    "\n",
    "- Using the method we learned in class for calculating propagation of error, determine the uncertainties in $I$, $\\kappa$, and $M$. With these uncertainties, calculate the uncertainty in $E$ obtained by the expression $E=\\frac{M}{I\\kappa}$.\n",
    "\n",
    "- Alternatively, substitute the experssions for $I$, $\\kappa$, and $M$ in to $E=\\frac{M}{I\\kappa}$, then take the partial derivatives of $E=f(b,t,r,\\epsilon$) to find the overall sensitivity to each variable.\n",
    "\n",
    "- To estimate the overall uncertainty in the experiment, it is acceptable to use the means of all measured values in the calculation - the mean of $r$, the mean of $\\epsilon$, etc.\n",
    "\n",
    "- The uncertainties in your measurements of length can be assumed to be zero-order. In other words, consider only the errors due to instrument resolution: $u_{xi}=\\frac{resolution}{2}$.\n",
    "\n",
    "- The uncertainty in your strain measurements can be estimated in two ways for this lab. They will give different results, but both will work for our purposes. First, you may record the \"drift\" value of your strain gauge after all measurements have been taken. This is the readout of the strain gauge in Lab View when the beam is under no applied moment. Second, you may use the difference between calculated and measured strain from your calibration in Task 1.\n",
    "\n",
    "- Assume the applied mass is known perfectly - i.e., there is no uncertainty to the force applied to the beam."
   ]
  },
  {
   "cell_type": "markdown",
   "metadata": {},
   "source": [
    "## Your Report \n",
    "\n",
    "Describe and discuss the results you obtained for the measurement of $E$.\n",
    "\n",
    "Follow the established format for lab reports: Introduction, Methods, Results & Discussion, Conclusion\n",
    "\n",
    "\n",
    "### References\n",
    "\n",
    "References\n",
    "\n",
    "0. Sutton, M. A., Orteu, J. J., & Schreier, H. (2009). Image correlation for shape, motion and deformation measurements: basic concepts, theory and applications. Springer Science & Business Media.\n",
    "\n",
    "1. F.P. Beer and E.R. Johnson, Mechanics of Materials, 2nd Edition,\n",
    "McGraw-Hill, 1992.\n",
    "\n",
    "2. S. Chapra, Numerical Methods for Engineers, ch. 14-15, 6th Edition, McGraw-Hill, 2009.\n",
    "\n",
    "3. [C. Salter, Error Analysis Using the Variance–Covariance Matrix, J. of Chem. Ed., 2000.](./least_squares-error_with_covariance.pdf)\n",
    "\n",
    "3. [Euler-Bernoulli Beam Theory - Wikipedia](https://en.wikipedia.org/wiki/Euler%E2%80%93Bernoulli_beam_theory) \n",
    "\n",
    "4. [Uncertainty\n",
    "Notes courses.washington.edu](https://courses.washington.edu/phys431/uncertainty_notes.pdf)"
   ]
  },
  {
   "cell_type": "code",
   "execution_count": null,
   "metadata": {},
   "outputs": [],
   "source": []
  }
 ],
 "metadata": {
  "kernelspec": {
   "display_name": "Python 3",
   "language": "python",
   "name": "python3"
  },
  "language_info": {
   "codemirror_mode": {
    "name": "ipython",
    "version": 3
   },
   "file_extension": ".py",
   "mimetype": "text/x-python",
   "name": "python",
   "nbconvert_exporter": "python",
   "pygments_lexer": "ipython3",
   "version": "3.8.8"
  }
 },
 "nbformat": 4,
 "nbformat_minor": 4
}
