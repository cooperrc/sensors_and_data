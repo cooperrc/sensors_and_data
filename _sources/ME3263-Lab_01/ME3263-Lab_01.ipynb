{
 "cells": [
  {
   "cell_type": "code",
   "execution_count": 2,
   "metadata": {},
   "outputs": [],
   "source": [
    "import numpy as np\n",
    "from scipy.stats import norm, t\n",
    "\n",
    "import matplotlib.pyplot as plt\n",
    "#import pretty_plots # script to set up LaTex and increase line-width and font size\n",
    "\n",
    "import check_lab01 as p"
   ]
  },
  {
   "cell_type": "markdown",
   "metadata": {},
   "source": [
    "Note: If you download this notebook to edit offline in the computer lab, you will need [this file](https://raw.githubusercontent.com/cooperrc/sensors_and_data/master/ME3263-Lab_01/check_lab01.py) (right click -> save as) in the same directory as the .ipynb file."
   ]
  },
  {
   "cell_type": "markdown",
   "metadata": {},
   "source": [
    "# ME 3263 - Laboratory #1                                                                                                                 \n",
    "## How can you measure something?\n",
    "\n",
    "All measurements have traceable standards. There are seven base units in SI -\n",
    "meter (length), second (time), Mole (amount of substance), Ampere (electric\n",
    "current), Kelvin (temperature), Candela (Luminous intensity), and kilogram\n",
    "(mass) [**1**](https://www.nist.gov/pml/weights-and-measures/metric-si/si-units).\n",
    "Any measurement you make should have some method to check against a reference.\n",
    "In this lab, we will use calipers that measure dimensions i.e.  meter\\*10$^{-3}$\n",
    "(length) [**2**](./museum-length.pdf). Calipers can always be verified to work with gage blocks. "
   ]
  },
  {
   "cell_type": "markdown",
   "metadata": {},
   "source": [
    "## Manufacturing variations\n",
    "\n",
    "Different production methods will often exhibit varying degrees of precision and accuracy. It's important to understand these differences, and how to measure them.\n",
    "In this lab, you will investigate several different sets of bar stock. Some samples have been cut\n",
    "with a bandsaw, some with a CNC mill. You will identify and examine the differences between the two \n",
    "methods.\n"
   ]
  },
  {
   "cell_type": "markdown",
   "metadata": {},
   "source": [
    "# Student's t-test\n",
    "\n",
    "To review, the _two-sample t-test_ can be used to determine whether two groups of samples (e.g. groups\n",
    "1 and 2 in the example below) have the same average length to within a desired confidence level. \n",
    "The two-sample t-test is based upon the means: $\\bar{x}_1$ and $\\bar{x}_2$, sample standard deviations: $S_{x,1}$ and $S_{x,2}$, and number of data points: $n_1$ and $n_2$. The t-value for this application is based upon the difference in means between sample sets:\n",
    "\n",
    "$t=\\frac{|\\bar{x}_1-\\bar{x}_2|}{\\sqrt{AB}}$\n",
    "\n",
    "where:\n",
    "\n",
    "$A=\\frac{n_1+n_2}{n_1 n_2}$\n",
    "\n",
    "$B=\\frac{(n_1-1)S_{x,1}^2+(n_2-1)S_{x,2}^2}{n_1+n_2-2}$\n",
    "\n",
    "If this calculated t-value is above the critical t-value for the sample size and desired confidence level ($t_{(\\nu,P)}$), the null hypothesis is rejected, meaning a significant difference has been detected between the two sample sets."
   ]
  },
  {
   "cell_type": "markdown",
   "metadata": {},
   "source": [
    "# Example calculations using Python\n",
    "Consider the following two groups of samples, measured to hundredths of a millimeter:\n",
    "\n",
    "|group| sample 1|sample 2|sample 3|sample 4|sample 5|\n",
    "|---  | ---     |  ---   | ---    | ---    | ---    |\n",
    "|1|104.14 mm | 101.61 mm |  99.06 mm | 102.87 mm | 106.68 mm |\n",
    "|2|104.12 mm | 101.63 mm |  97.79 mm | 101.58 mm | 104.17 mm |\n",
    "\n",
    "Using Python, we can calculate the t-value for the difference between the means of these two samples:"
   ]
  },
  {
   "cell_type": "code",
   "execution_count": 3,
   "metadata": {
    "tags": []
   },
   "outputs": [
    {
     "name": "stdout",
     "output_type": "stream",
     "text": [
      "example groups 1 and 2 have t=0.59\n"
     ]
    }
   ],
   "source": [
    "G1=np.array([104.14, 101.61 ,  99.06, 102.87, 106.68])  #Entering the values of groups 1 and 2\n",
    "G2=np.array([104.12, 101.63 ,  97.79, 101.58 , 104.17])\n",
    "\n",
    "meanG1=np.sum(G1)/len(G1)    #Calculating their means: their sums divided by their number of elements\n",
    "meanG2=np.sum(G2)/len(G2)\n",
    "\n",
    "s2G1=np.sum((G1-meanG1)**2)/(len(G1)-1) #Calculating the sample variances using the expression we learned in class\n",
    "s2G2=np.sum((G2-meanG2)**2)/(len(G2)-1)\n",
    "\n",
    "A=(len(G1)+len(G2))/(len(G1)*len(G2)*1.0)   #calculating the A and B terms for the denominator of our t expression. Multiplying A by 1.0 is a simple way to make this integer a float\n",
    "B=((len(G1)-1)*s2G1+(len(G2)-1)*s2G2)/(len(G1)+len(G2)-2)\n",
    "\n",
    "tstat=np.abs(meanG1-meanG2)/np.sqrt(A*B)  #finally calculating our t-value\n",
    "\n",
    "print('example groups 1 and 2 have t=%1.2f'%tstat)"
   ]
  },
  {
   "cell_type": "markdown",
   "metadata": {},
   "source": [
    "We can also use the SciPy stats library to find our critical t-values, rather than looking them up in a table. If you check the first code block of this notebook, you will see that we have imported `norm` and `t` from this library. `t.interval` is used to retrieve the critical t-value, as shown in the example below. "
   ]
  },
  {
   "cell_type": "code",
   "execution_count": 27,
   "metadata": {},
   "outputs": [
    {
     "name": "stdout",
     "output_type": "stream",
     "text": [
      "df=8\n",
      "| p=0.05 | p=0.025 | p=0.01 | p=0.005 |\n",
      "|    --- |     --- |    --- |     --- |\n",
      "| 2.31   | 2.75    | 3.36   | 3.83    |\n"
     ]
    }
   ],
   "source": [
    "df=len(G1)+len(G2)-2  #Calculate our degrees of freedom (nu)\n",
    "\n",
    "# Print out the table for df degrees of freedom (n1+n2-2)\n",
    "print('df=%i'%df )\n",
    "print('| p=0.05 | p=0.025 | p=0.01 | p=0.005 |')\n",
    "print('|    --- |     --- |    --- |     --- |')\n",
    "print(\"| %1.2f   | %1.2f    | %1.2f   | %1.2f    |\"%(t.interval(0.95, df)[1],\\\n",
    "                                                     t.interval(0.975, df)[1],\\\n",
    "                                                     t.interval(0.99, df)[1],\\\n",
    "                                                     t.interval(0.995, df)[1])) #use t.interval with the desired c (P%) and degrees of freedom"
   ]
  },
  {
   "cell_type": "markdown",
   "metadata": {},
   "source": [
    "The confidence interval is often expressed as a decimal $c$ (e.g., $c=0.95$) rather than a percent (e.g., $P=95\\%$). $p$, the complement of $c$, is also used (e.g., $p=0.05$). All three of these  are functionally equivalent, and are simply different ways of notating the same quantity."
   ]
  },
  {
   "cell_type": "markdown",
   "metadata": {},
   "source": [
    "## Example Problem #1\n",
    "\n",
    "Groups 1 and 2 from the previous example have different measurements of mean length. Is it statistically significant?"
   ]
  },
  {
   "cell_type": "code",
   "execution_count": 24,
   "metadata": {},
   "outputs": [],
   "source": [
    "Answer  = 1 # replace 1 with 'yes' or 'no'"
   ]
  },
  {
   "cell_type": "code",
   "execution_count": 18,
   "metadata": {},
   "outputs": [
    {
     "name": "stdout",
     "output_type": "stream",
     "text": [
      "Whoops, try again\n"
     ]
    },
    {
     "data": {
      "text/plain": [
       "0"
      ]
     },
     "execution_count": 18,
     "metadata": {},
     "output_type": "execute_result"
    }
   ],
   "source": [
    "p.check_p01(Answer)"
   ]
  },
  {
   "cell_type": "markdown",
   "metadata": {},
   "source": [
    "## Example Problem #2\n",
    "\n",
    "Consider the following two groups of samples:\n",
    "\n",
    "|group| sample 1|sample 2|sample 3|sample 4|sample 5|\n",
    "|--  | ---     |  ---   | ---    | ---    | ---    |\n",
    "|1|103.5| 99.0| 104.5| 110.7| 98.4|\n",
    "|2|108.8| 117.9| 113.8| 107.7| 112.7|\n",
    "\n",
    "\n",
    "Is there a statisitically significant difference between the two sets of measurements?\n"
   ]
  },
  {
   "cell_type": "code",
   "execution_count": 8,
   "metadata": {},
   "outputs": [
    {
     "ename": "NameError",
     "evalue": "name 'degrees_of_freedom' is not defined",
     "output_type": "error",
     "traceback": [
      "\u001b[0;31m---------------------------------------------------------------------------\u001b[0m",
      "\u001b[0;31mNameError\u001b[0m                                 Traceback (most recent call last)",
      "\u001b[0;32m<ipython-input-8-6ed2945bd8f5>\u001b[0m in \u001b[0;36m<module>\u001b[0;34m\u001b[0m\n\u001b[1;32m      1\u001b[0m \u001b[0mtstat\u001b[0m \u001b[0;31m# your work here\u001b[0m\u001b[0;34m\u001b[0m\u001b[0;34m\u001b[0m\u001b[0m\n\u001b[0;32m----> 2\u001b[0;31m \u001b[0mtvar\u001b[0m\u001b[0;34m=\u001b[0m\u001b[0mt\u001b[0m\u001b[0;34m.\u001b[0m\u001b[0minterval\u001b[0m\u001b[0;34m(\u001b[0m\u001b[0;36m0.95\u001b[0m\u001b[0;34m,\u001b[0m\u001b[0mdegrees_of_freedom\u001b[0m\u001b[0;34m)\u001b[0m\u001b[0;34m[\u001b[0m\u001b[0;36m1\u001b[0m\u001b[0;34m]\u001b[0m\u001b[0;34m\u001b[0m\u001b[0;34m\u001b[0m\u001b[0m\n\u001b[0m\u001b[1;32m      3\u001b[0m \u001b[0mAnswer\u001b[0m \u001b[0;31m# = 'yes' or 'no'\u001b[0m\u001b[0;34m\u001b[0m\u001b[0;34m\u001b[0m\u001b[0m\n",
      "\u001b[0;31mNameError\u001b[0m: name 'degrees_of_freedom' is not defined"
     ]
    }
   ],
   "source": [
    "tstat # your work here\n",
    "tvar=t.interval(0.95,degrees_of_freedom)[1]\n",
    "Answer # = 'yes' or 'no'"
   ]
  },
  {
   "cell_type": "code",
   "execution_count": 9,
   "metadata": {},
   "outputs": [
    {
     "name": "stdout",
     "output_type": "stream",
     "text": [
      "Whoops, try again\n"
     ]
    },
    {
     "data": {
      "text/plain": [
       "0"
      ]
     },
     "execution_count": 9,
     "metadata": {},
     "output_type": "execute_result"
    }
   ],
   "source": [
    "# Leave this alone, execute to check the answer\n",
    "p.check_p02(tstat,Answer)"
   ]
  },
  {
   "cell_type": "markdown",
   "metadata": {},
   "source": [
    "# Lab Procedure - Measuring tolerances and comparing groups and samples\n",
    "\n",
    "You are given four groups, A-D, of 5 samples, 1-5. You will use 4-inch calipers to\n",
    "measure the lengths of the four groups of samples. Make sure each lab member\n",
    "takes measurements. Measure the length of each sample four times and fill\n",
    "in Table 1. A printable version of this table can be found [here](https://raw.githubusercontent.com/cooperrc/sensors_and_data/master/ME3263-Lab_01/Lab1Table.pdf).\n",
    "\n",
    "**Table 1. Lengths of machined bar stock. Sets A-D, samples 1-5, length\n",
    "measurements 1-4. Calculate the average and standard deviation and note the\n",
    "lab member.**\n",
    "\n",
    "|Set | Sample | Length 1 | Length 2 | Length 3 | Length 4 | Average | Stand. Dev.| User |\n",
    "|---|---|---|---|---|---|---|---|------|\n",
    "|A|1|\\_\\_\\_|\\_\\_\\_|\\_\\_\\_|\\_\\_\\_|\\_\\_\\_\\_\\_\\_|\\_\\_\\_\\_\\_\\_|\\_\\_\\_\\_\\_\\_|\n",
    "|A|2|\\_\\_\\_|\\_\\_\\_|\\_\\_\\_|\\_\\_\\_|\\_\\_\\_\\_\\_\\_|\\_\\_\\_\\_\\_\\_|\\_\\_\\_\\_\\_\\_|\n",
    "|A|3|\\_\\_\\_|\\_\\_\\_|\\_\\_\\_|\\_\\_\\_|\\_\\_\\_\\_\\_\\_|\\_\\_\\_\\_\\_\\_|\\_\\_\\_\\_\\_\\_|\n",
    "|A|4|\\_\\_\\_|\\_\\_\\_|\\_\\_\\_|\\_\\_\\_|\\_\\_\\_\\_\\_\\_|\\_\\_\\_\\_\\_\\_|\\_\\_\\_\\_\\_\\_|\n",
    "|A|5|\\_\\_\\_|\\_\\_\\_|\\_\\_\\_|\\_\\_\\_|\\_\\_\\_\\_\\_\\_|\\_\\_\\_\\_\\_\\_|\\_\\_\\_\\_\\_\\_|\n",
    "|B|1|\\_\\_\\_|\\_\\_\\_|\\_\\_\\_|\\_\\_\\_|\\_\\_\\_\\_\\_\\_|\\_\\_\\_\\_\\_\\_|\\_\\_\\_\\_\\_\\_|\n",
    "|B|2|\\_\\_\\_|\\_\\_\\_|\\_\\_\\_|\\_\\_\\_|\\_\\_\\_\\_\\_\\_|\\_\\_\\_\\_\\_\\_|\\_\\_\\_\\_\\_\\_|\n",
    "|B|3|\\_\\_\\_|\\_\\_\\_|\\_\\_\\_|\\_\\_\\_|\\_\\_\\_\\_\\_\\_|\\_\\_\\_\\_\\_\\_|\\_\\_\\_\\_\\_\\_|\n",
    "|B|4|\\_\\_\\_|\\_\\_\\_|\\_\\_\\_|\\_\\_\\_|\\_\\_\\_\\_\\_\\_|\\_\\_\\_\\_\\_\\_|\\_\\_\\_\\_\\_\\_|\n",
    "|B|5|\\_\\_\\_|\\_\\_\\_|\\_\\_\\_|\\_\\_\\_|\\_\\_\\_\\_\\_\\_|\\_\\_\\_\\_\\_\\_|\\_\\_\\_\\_\\_\\_|\n",
    "|C|1|\\_\\_\\_|\\_\\_\\_|\\_\\_\\_|\\_\\_\\_|\\_\\_\\_\\_\\_\\_|\\_\\_\\_\\_\\_\\_|\\_\\_\\_\\_\\_\\_|\n",
    "|C|2|\\_\\_\\_|\\_\\_\\_|\\_\\_\\_|\\_\\_\\_|\\_\\_\\_\\_\\_\\_|\\_\\_\\_\\_\\_\\_|\\_\\_\\_\\_\\_\\_|\n",
    "|C|3|\\_\\_\\_|\\_\\_\\_|\\_\\_\\_|\\_\\_\\_|\\_\\_\\_\\_\\_\\_|\\_\\_\\_\\_\\_\\_|\\_\\_\\_\\_\\_\\_|\n",
    "|C|4|\\_\\_\\_|\\_\\_\\_|\\_\\_\\_|\\_\\_\\_|\\_\\_\\_\\_\\_\\_|\\_\\_\\_\\_\\_\\_|\\_\\_\\_\\_\\_\\_|\n",
    "|C|5|\\_\\_\\_|\\_\\_\\_|\\_\\_\\_|\\_\\_\\_|\\_\\_\\_\\_\\_\\_|\\_\\_\\_\\_\\_\\_|\\_\\_\\_\\_\\_\\_|\n",
    "|D|1|\\_\\_\\_|\\_\\_\\_|\\_\\_\\_|\\_\\_\\_|\\_\\_\\_\\_\\_\\_|\\_\\_\\_\\_\\_\\_|\\_\\_\\_\\_\\_\\_|\n",
    "|D|2|\\_\\_\\_|\\_\\_\\_|\\_\\_\\_|\\_\\_\\_|\\_\\_\\_\\_\\_\\_|\\_\\_\\_\\_\\_\\_|\\_\\_\\_\\_\\_\\_|\n",
    "|D|3|\\_\\_\\_|\\_\\_\\_|\\_\\_\\_|\\_\\_\\_|\\_\\_\\_\\_\\_\\_|\\_\\_\\_\\_\\_\\_|\\_\\_\\_\\_\\_\\_|\n",
    "|D|4|\\_\\_\\_|\\_\\_\\_|\\_\\_\\_|\\_\\_\\_|\\_\\_\\_\\_\\_\\_|\\_\\_\\_\\_\\_\\_|\\_\\_\\_\\_\\_\\_|\n",
    "|D|5|\\_\\_\\_|\\_\\_\\_|\\_\\_\\_|\\_\\_\\_|\\_\\_\\_\\_\\_\\_|\\_\\_\\_\\_\\_\\_|\\_\\_\\_\\_\\_\\_|\n",
    "\n",
    "Sample groups A-D were machined with two different methods, a saw and a computer\n",
    "numerical control (CNC) mill. There is a roughness associated with the process\n",
    "and a randomness associated with the mounting and cutting of the four groups of\n",
    "samples. The roughness affects the variation of the multiple measurements on one\n",
    "sample i.e. Length 1, 2, 3, and 4. The mounting and cutting process introduces\n",
    "variations between A1, A2, etc. The different cutting methods could lead to further variation between sample groups A, B, C and D."
   ]
  },
  {
   "cell_type": "markdown",
   "metadata": {},
   "source": [
    "## Your Report \n",
    "\n",
    "Describe the measurements in groups A, B, C, and D. Determine which, if any, groups are statistically equivalent (do they satisfy the null hypothesis?). Describe the difference in measurement errors (i.e., confidence intervals) between band saw and CNC sample sets. Remember that each lab group has received different sets of samples, so your results may not match your neighbors'.\n",
    "\n",
    "Follow the established format for lab reports: Introduction, Methods, Results & Discussion, Conclusion\n",
    "\n",
    "\n",
    "### References\n",
    "1. [https://www.nist.gov/pml/weights-and-measures/metric-si/si-units](https://www.nist.gov/pml/weights-and-measures/metric-si/si-units)\n",
    "\n",
    "2. [Layer, H. P. Length—Evolution from Measurement Standard to a Fundamental Constant](https://raw.githubusercontent.com/cooperrc/sensors_and_data/master/ME3263-Lab_01/museum-length.pdf)\n",
    "\n",
    "3. [Uncertainty\n",
    "Notes](https://courses.washington.edu/phys431/uncertainty_notes.pdf)\n",
    "\n",
    "4. [Student\n",
    "t-test](https://www.ruf.rice.edu/~bioslabs/tools/stats/ttest.html)\n",
    "\n"
   ]
  },
  {
   "cell_type": "code",
   "execution_count": null,
   "metadata": {},
   "outputs": [],
   "source": []
  }
 ],
 "metadata": {
  "kernelspec": {
   "display_name": "Python 3",
   "language": "python",
   "name": "python3"
  },
  "language_info": {
   "codemirror_mode": {
    "name": "ipython",
    "version": 3
   },
   "file_extension": ".py",
   "mimetype": "text/x-python",
   "name": "python",
   "nbconvert_exporter": "python",
   "pygments_lexer": "ipython3",
   "version": "3.8.8"
  }
 },
 "nbformat": 4,
 "nbformat_minor": 4
}
