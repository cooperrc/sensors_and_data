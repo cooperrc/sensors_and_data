{
 "cells": [
  {
   "cell_type": "code",
   "execution_count": 1,
   "metadata": {},
   "outputs": [],
   "source": [
    "import numpy as np\n",
    "\n",
    "import matplotlib.pyplot as plt\n",
    "from scipy.optimize import curve_fit\n",
    "import check_lab06 as p\n",
    "\n",
    "import pretty_plots # script to set up LaTex and increase line-width and font size"
   ]
  },
  {
   "cell_type": "code",
   "execution_count": 2,
   "metadata": {},
   "outputs": [
    {
     "name": "stderr",
     "output_type": "stream",
     "text": [
      "/home/ryan/Documents/UConn/ME3263/me3263_F2019/experiment_06/ME3263-Lab_06/pretty_plots.py:6: MatplotlibDeprecationWarning: \n",
      "The text.latex.unicode rcparam was deprecated in Matplotlib 3.0 and will be removed in 3.2.\n",
      "  plt.rcParams['text.latex.unicode'] = True\n"
     ]
    }
   ],
   "source": [
    "pretty_plots.setdefaults()\n",
    "pi=np.pi"
   ]
  },
  {
   "cell_type": "markdown",
   "metadata": {},
   "source": [
    "# ME 3263 Introduction to Sensors and Data Analysis\n",
    "\n",
    "# Lab \\#6 Temperature Measurements in a First Order Thermal System \n",
    "\n",
    "## Temperature Sensing\n",
    "\n",
    "Temperature is one of the most common measurements in engineering\n",
    "applications. The metrological definition of temperature depends upon 14 phase transitions in different materials and five different temperature measurement devices [\\[1\\]](./ITS_1990-Preston-Thomas_Metrologia.pdf). Thermocouples are a common method to measure temperature in engineering systems [\\[2\\]](./E220-thermocouples.pdf). Thermocouples use the Seebeck effect to produce a voltage in a conductor. Two wires\n",
    "such as iron and constantan, shown in Figure 1, are used to create an electromotive force proportional to the temperature gradient from the hot end to the cold\n",
    "end (cold junction) of the wires. Knowing the temperature\n",
    "at the cold junction allows you to find the temperature at the\n",
    "measurement site."
   ]
  },
  {
   "cell_type": "markdown",
   "metadata": {},
   "source": [
    "![Figure 1: A schematic of a thermocouple with cold temperature\n",
    "compensation. The second image shows the scale of a thermocouple,\n",
    "relative to a penny.](./figure_01.png)\n",
    "\n",
    "**Figure 1: A schematic of a thermocouple with cold temperature\n",
    "compensation. The second image shows the scale of a thermocouple,\n",
    "relative to a penny.**"
   ]
  },
  {
   "cell_type": "markdown",
   "metadata": {},
   "source": [
    "In this lab we will measure the temperature of water after a hot mass has been introduced. The lab set-up is shown\n",
    "schematically in Figure 2. The temperature of the water due to convection from a hot point mass results in the first order differential equation as such\n",
    "\n",
    "$\\frac{dT_{f}}{dt}+\\lambda T_{f} = F$ (1)\n",
    "\n",
    "where $T_f$ is the  fluid temperature and $\\lambda$ and $F$ are constants based upon physical properties of\n",
    "the system and initial internal energy. We can solve for the solution of $T_f(t)$ with inital conditions of the system. The solution to a first order differential equation is shown as the following python function, a representative curve is shown for an intial temperature of 0 rising to a final temperature of 1. The solution is an exponential decay with time constant, $\\tau$. The solution approaches the final temperature, after $\\tau$ steps, T=0.63, after $3\\tau$, T=0.95, after $6\\tau$, T=0.99. "
   ]
  },
  {
   "cell_type": "code",
   "execution_count": 3,
   "metadata": {},
   "outputs": [],
   "source": [
    "def T_order1(L,F,T0):\n",
    "    '''solution to first order system dT/dt+L*T=F, \n",
    "    where L and F are based upon physical constants \n",
    "    and T0 is the initial condition at time=0.'''\n",
    "    A=T0-F/L\n",
    "    T=A*np.exp(-L*t)+F/L\n",
    "    return T"
   ]
  },
  {
   "cell_type": "code",
   "execution_count": 4,
   "metadata": {},
   "outputs": [
    {
     "data": {
      "text/plain": [
       "Text(0, 0.5, '$T$')"
      ]
     },
     "execution_count": 4,
     "metadata": {},
     "output_type": "execute_result"
    },
    {
     "data": {
      "image/png": "[encoded data removed]",
      "text/plain": [
       "<Figure size 432x288 with 1 Axes>"
      ]
     },
     "metadata": {
      "needs_background": "light"
     },
     "output_type": "display_data"
    }
   ],
   "source": [
    "t=np.linspace(0,6)\n",
    "T_fluid=T_order1(1,1,0)\n",
    "plt.plot(t,T_fluid)\n",
    "plt.xlabel(r'$\\tau$')\n",
    "plt.ylabel(r'$T$')"
   ]
  },
  {
   "cell_type": "markdown",
   "metadata": {},
   "source": [
    "![Figure 2: A schematic of the experimental system.](./figure_02.png)\n",
    "\n",
    "**Figure 2: A schematic of the experimental system.**"
   ]
  },
  {
   "cell_type": "markdown",
   "metadata": {},
   "source": [
    "For an adiabatic system, any increase in temperature of the water is due to a decrease in temperature from the point mass. We can relate the two temperatures based upon the initial conditions of the system as such\n",
    "\n",
    "$U_{solid}(0)+U_{water}(0)=U_{solid}(t)+U_{water}(t)$ (2a)\n",
    "\n",
    "$m_{solid} C_{solid} T_{solid}(0) + m_{water} C_{water} T_{water}(0)=\n",
    "m_{solid} C_{solid} T_{solid}(t) + m_{water} C_{water} T_{water}(t)$ (2b)\n",
    "\n",
    "$-\\frac{dU_{solid}}{dt}=\\frac{dU_{water}}{dt}$ (2c)\n",
    "\n",
    "$-m_{solid} C_{solid}\\frac{dT_{solid}}{dt}=m_{water} C_{water}\\frac{dT_{water}}{dt}$ (2d)\n",
    "\n",
    "where $U$ is the internal energy, $m_{solid}$ and $m_{water}$ are the masses of the solid and water, respectively, $C$ is the specific heat, $T(0)$ are the initial temperatures, and $T(t)$ are the temperatures at any point in time. The rate of energy transferred is governed by natural convection. The rate of energy transferred from the solid to the water, $\\dot{Q}$, is as such\n",
    "\n",
    "$\\dot{Q}=h A(T_{water}-T_{solid})$ (3)\n",
    "\n",
    "where $h$ is the convective heat transfer coefficient and $A$ is the surface area of the solid in contact with the water. Plugging the conservation of energy equations in 2b and 2d into the heat transfer equation in 4 there results\n",
    "\n",
    "$\\frac{T_{water}}{dt}+\\left(\\frac{hA}{m_{solid}C_{solid}}+\\frac{hA}{m_{water}C_{water}}\\right)T_{water}\n",
    "=hA\\left(\\frac{T_{solid}(0)}{m_{water}C_{water}}+\\frac{T_{water}(0)}{m_{solid}C_{solid}}\\right)$. (4)\n",
    "\n",
    "In the following example, 2 kg of water at 20$^o$C has an aluminum cylinder (diameter=25 cm, height=25 cm) mass initially at 90$^{o}$C dropped into it. The specific heat of water is taken as 4186 J/kg-K, the specific heat of aluminum is taken as 900 J/kg-K, and the surface area is solved as the surface area of the cylinder. "
   ]
  },
  {
   "cell_type": "code",
   "execution_count": 5,
   "metadata": {},
   "outputs": [],
   "source": [
    "def fluid_temp(t,h,mf,Cf,ms,Cs,As,T0f,T0s):\n",
    "    '''solution of first order thermal system fluid temperature\n",
    "    inputs are time, t\n",
    "    convection coefficient, h \n",
    "    mass of fluid, mf\n",
    "    specific heat of fluid, Cf\n",
    "    mass of solid, ms\n",
    "    specific heat of solid, Cs\n",
    "    area of contact between solid-fluid\n",
    "    initial fluid temperature, T0f\n",
    "    initial solid temperature, T0s'''\n",
    "    #L=h*As*(1/mf/Cf+1/ms/Cs)\n",
    "    L=h*As*(mf*Cf+ms*Cs)/(ms*mf*Cs*Cf)\n",
    "    F=h*As*T0s/mf/Cf+h*As*T0f/ms/Cs\n",
    "    A=T0f-F/L\n",
    "    Tf=A*np.exp(-L*t)+F/L\n",
    "    Ts=T0s+mf*Cf/ms/Cs*(T0f-Tf)\n",
    "    return Tf,Ts"
   ]
  },
  {
   "cell_type": "code",
   "execution_count": 6,
   "metadata": {},
   "outputs": [
    {
     "data": {
      "text/plain": [
       "Text(0.5, 1.0, 'Water temperature rise due to 90$^{o}$C Al mass')"
      ]
     },
     "execution_count": 6,
     "metadata": {},
     "output_type": "execute_result"
    },
    {
     "data": {
      "image/png": "[encoded data removed]",
      "text/plain": [
       "<Figure size 432x288 with 1 Axes>"
      ]
     },
     "metadata": {
      "needs_background": "light"
     },
     "output_type": "display_data"
    }
   ],
   "source": [
    "r=0.025\n",
    "t=0.050\n",
    "V=pi*r**2*t\n",
    "ms=2700*V\n",
    "As=2*pi*r*(r+t)\n",
    "\n",
    "t=np.linspace(0,2*3600)\n",
    "Tf,Ts=fluid_temp(t,10,2,4186,ms,900,As,20,90)\n",
    "plt.plot(t/3600,Tf)\n",
    "plt.xlabel('time (hr)')\n",
    "plt.ylabel('water temp (C)')\n",
    "plt.title(r'Water temperature rise due to 90$^{o}$C Al mass')"
   ]
  },
  {
   "cell_type": "markdown",
   "metadata": {},
   "source": [
    "# Problem 1\n",
    "\n",
    "Use the following experimental data to determine the convection coefficient $h$ by fitting the data to the `fluid_temp` function.\n",
    "\n",
    "0.5 kg of water at 20$^o$C has an aluminum cylinder (diameter=25 cm, height=25 cm) mass initially at has an unknown initial temperature. The specific heat of water is taken as 4186 J/kg-K, the specific heat of aluminum is taken as 900 J/kg-K, and the surface area is solved as the surface area of the cylinder. \n",
    "\n",
    "find the convection coefficient $h$ and intitial temperature of the solid, T0s.\n",
    "\n",
    "|time (s) | Temp (C) |\n",
    "|---| ---|\n",
    "| 0.0 | 20.0 |\n",
    "| 400.0 | 22.30 |\n",
    "| 800.0 | 23.96 |\n",
    "| 1200.0 | 25.14 |\n",
    "| 1600.0 | 26.00 |\n",
    "| 2000.0 | 26.61 |\n",
    "| 2400.0 | 27.06 |\n",
    "| 2800.0 | 27.37 |\n",
    "| 3200.0 | 27.60 |\n",
    "| 3600.0 | 27.77 |"
   ]
  },
  {
   "cell_type": "code",
   "execution_count": 7,
   "metadata": {},
   "outputs": [],
   "source": [
    "# setting up problem 1\n",
    "t=np.array([0,400,800,1200,1600,2000,2400,2800,3200,3600])\n",
    "Tf=np.array([20,22.19,24.14,25.08,26.02,26.42,26.99,27.52,27.59,27.78])\n",
    "def func_01(t,h,T0s):\n",
    "    r=0.025\n",
    "    w=0.050\n",
    "    V=pi*r**2*w\n",
    "    ms=2700*V\n",
    "    As=2*pi*r*(r+w)\n",
    "    mf=0.5\n",
    "    Cf=4186\n",
    "    Cs=900\n",
    "    T0f=19.98\n",
    "    #fluid_temp(t,15,0.5,4186,ms,900,As,20,100)\n",
    "    Tf,Ts=fluid_temp(t,h,mf,Cf,ms,Cs,As,T0f,T0s)\n",
    "    return Tf"
   ]
  },
  {
   "cell_type": "code",
   "execution_count": null,
   "metadata": {},
   "outputs": [],
   "source": [
    "# Use the curve fit function to get h and T0s\n",
    "# replace the values of f, xdata, ydata, and bestguesses\n",
    "#popt,pcov =curve_fit(f, xdata, ydata, p0=[bestguessh,bestguessT0s])\n",
    "\n",
    "plt.plot(t,Tf,'o')\n",
    "plt.plot(t,func_01(t,popt[0],popt[1]))\n",
    "\n",
    "p.check_p01(func_01(t,popt[0]+0.1,popt[1]+0.1))"
   ]
  },
  {
   "cell_type": "markdown",
   "metadata": {},
   "source": [
    "# Experimental details\n",
    "\n",
    "The time response of the system is characterized by the time constant $\\tau=1/\\lambda$;\n",
    "it is the natural time scale for this problem. \n",
    "Use a first order thermal system model to measure the time constant, $\\tau$, and convection coefficient, $h$, based upon the \n",
    "measured temperature vs time. \n",
    "\n",
    "-   Calibrate the thermocouple with two phase transitions.\n",
    "    Plunge your thermocouple into an ice bath and then boiled water.\n",
    "    \n",
    "-   Weigh your styrofoam box on the scale. Fill your styrofoam box with\n",
    "    cool tap water. Weigh the box + water. Record the mass of water and\n",
    "    measure the initial water temperature (via the thermocouple).\n",
    "\n",
    "-   Drop the heated mass that has been heated up to a preset temperature into\n",
    "    the water.\n",
    "\n",
    "-   **Record the temperature of the water as a function of time.** Be\n",
    "    sure to choose an appropriate sample rate.\n",
    "\n",
    "-   Record the\n",
    "    mass, the material composition of the mass (e.g. aluminum, copper, etc.), and\n",
    "    any necessary geometric features of the mass.\n",
    "\n",
    "-   From your data, determine the time constant, $\\tau$, and the convection coefficient, $h$."
   ]
  },
  {
   "cell_type": "markdown",
   "metadata": {},
   "source": [
    "# Determine Temperature of cooling mass\n",
    "\n",
    "In the lumped heat transfer model derived in equation 4, we made the assumption that our mass is a uniform temperature. This is a valid assumption if conduction within the solid is much faster than convection between the solid and liquid. A common quantity used to verify this assumption is the Biot number [\\[3 (p.30)\\]](https://ocw.mit.edu/courses/aeronautics-and-astronautics/16-050-thermal-energy-fall-2002/lecture-notes/10_part3.pdf)\n",
    "\n",
    "$Bi = \\frac{hL}{k}$ (5)\n",
    "\n",
    "where $h$ is the convection coefficent, $L$ is the representative length (often calculated as volume/area), and $k$ is the conduction of the solid. When Bi<<1, conduction happens much faster than convection. When Bi>>1, conduction will dominate heat transfer. \n",
    "\n"
   ]
  },
  {
   "cell_type": "markdown",
   "metadata": {},
   "source": [
    "Use Ansys \\[[4](https://ansyshelp.ansys.com/account/secured?returnurl=/Views/Secured/corp/main_page.html), [5](https://kaltura.uconn.edu/media/ansys-transient_heat-transfer+-+Quiz/1_nf1xqyh5)\\] to determine the temperature within the solid when it is placed in the cold water. Here, we will enter the temperature of the water based upon experimental results to account for changing $T_{\\infty}$ as seen in Figure 3. Model the solid as an axisymmetric cylinder. If your solid is rectangular, make sure the volume and surface area are the same as the experiment. The outer surfaces have convection boundary conditions and the solid initially has a temperature of your measured initial temperature. Use the the best-fit function for the temperature vs time to get 6-10 temperature values to enter into an Ansys transient heat transfer model. \n",
    "\n",
    "**Post-process**:\n",
    "Compare the maximum and minimum temperatures in the solid over time. Compare the conduction-convection model to the lumped-mass prediction of the temperature of the mass."
   ]
  },
  {
   "cell_type": "markdown",
   "metadata": {},
   "source": [
    "![Schematic of two dimensional heat transfer model.](./figure_03.png)\n",
    "\n",
    "**Figure 3: Schematic of two dimensional heat transfer model.**"
   ]
  },
  {
   "cell_type": "code",
   "execution_count": 8,
   "metadata": {},
   "outputs": [
    {
     "name": "stdout",
     "output_type": "stream",
     "text": [
      "time,Temp (C)\n",
      "0,20.0\n",
      "1440,21.0\n",
      "2880,21.5\n",
      "4320,21.7\n",
      "5760,21.8\n",
      "7200,21.9\n"
     ]
    },
    {
     "data": {
      "image/png": "[encoded data removed]",
      "text/plain": [
       "<Figure size 432x288 with 1 Axes>"
      ]
     },
     "metadata": {
      "needs_background": "light"
     },
     "output_type": "display_data"
    }
   ],
   "source": [
    "#Experimentally determined convection coefficient, h\n",
    "# and initial temperature of solid T0s\n",
    "#Use as input for Ansys model\n",
    "h=10 # W/m/m/K\n",
    "T0s=90 # deg C\n",
    "\n",
    "r=0.025\n",
    "t=0.050\n",
    "V=pi*r**2*t\n",
    "ms=2700*V\n",
    "As=2*pi*r*(r+t)\n",
    "\n",
    "tmod=np.linspace(0,2*3600,6)\n",
    "Tf,Ts=fluid_temp(tmod,h,2,4186,ms,900,As,20,T0s)\n",
    "\n",
    "plt.plot(tmod,Tf,'o')\n",
    "print('time,Temp (C)')\n",
    "for i,T in enumerate(Tf):\n",
    "    print('%1.0f,%1.1f'%(tmod[i],T))"
   ]
  },
  {
   "cell_type": "markdown",
   "metadata": {},
   "source": [
    "# References\n",
    "1. [Preston-Thomas, H. (1990). The international temperature scale of 1990 (ITS-90). metrologia, 27(1), 3.](./ITS_1990-Preston-Thomas_Metrologia.pdf). \n",
    "\n",
    "2. [ASTM E220-13 Standard Test Method for Calibration of Thermocouples By Comparison Techniques, ASTM International, West Conshohocken, PA, 2013, https://doi.org/10.1520/E0220-13](./E220-thermocouples.pdf).\n",
    "\n",
    "3. [MIT Thermal Energy lecture notes (p.30)](https://ocw.mit.edu/courses/aeronautics-and-astronautics/16-050-thermal-energy-fall-2002/lecture-notes/10_part3.pdf)\n",
    "\n",
    "4. [Ansys help documentation.](https://ansyshelp.ansys.com/account/secured?returnurl=/Views/Secured/corp/main_page.html)\n",
    "\n",
    "5. [Ansys transient thermal analysis tutorial](https://kaltura.uconn.edu/media/ansys-transient_heat-transfer+-+Quiz/1_nf1xqyh5)"
   ]
  }
 ],
 "metadata": {
  "kernelspec": {
   "display_name": "Python 3",
   "language": "python",
   "name": "python3"
  },
  "language_info": {
   "codemirror_mode": {
    "name": "ipython",
    "version": 3
   },
   "file_extension": ".py",
   "mimetype": "text/x-python",
   "name": "python",
   "nbconvert_exporter": "python",
   "pygments_lexer": "ipython3",
   "version": "3.7.4"
  }
 },
 "nbformat": 4,
 "nbformat_minor": 4
}
