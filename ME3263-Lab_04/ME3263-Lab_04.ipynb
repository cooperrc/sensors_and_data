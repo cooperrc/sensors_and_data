{
 "cells": [
  {
   "cell_type": "code",
   "execution_count": 1,
   "metadata": {},
   "outputs": [],
   "source": [
    "import numpy as np\n",
    "\n",
    "import matplotlib.pyplot as plt\n",
    "from scipy import linalg\n",
    "\n",
    "plt.rcParams.update({'font.size': 18})\n",
    "plt.rcParams['lines.linewidth'] = 3\n",
    "\n",
    "pi=np.pi"
   ]
  },
  {
   "cell_type": "markdown",
   "metadata": {},
   "source": [
    "# ME 3263 Introduction to Sensors and Data Analysis (Fall 2018)\n",
    "\n",
    "## Lab #4 Predicting Natural Frequencies with the Finite Element Method\n",
    "\n",
    "\n",
    "### What is the Finite Element Method?\n",
    "\n",
    "The Euler-Lagrange dynamic beam equation is an example of a partial differential\n",
    "equation (PDE). These equations are common in many engineering applications e.g.\n",
    "solid mechanics, electromagnetics, fluid mechanics, and quantum mechanics. The\n",
    "finite element method solves PDEs. The FEM process involves two steps to create\n",
    "matrices for a computer algorithm solution. First, the PDE is integrated from\n",
    "the strong form to the weak form. Second, an approximation of the variable\n",
    "\"shapes\" within each \"element\" is created to convert the integrals and\n",
    "derivatives into matrices\n",
    "[(1)](http://bcs.wiley.com/he-bcs/Books?action=index&bcsId=3625&itemId=0470035803).\n",
    "For elements with nodes only at vertices, such as cubes (hexahedrons) or\n",
    "pyramids (tetrahedrals), the \"shape\" function is linear for displacement.  The\n",
    "simplest FEM divides a continuous structure into finite, interacting elements.\n",
    "As a simple example, consider a rectangular beam with a force applied to stretch\n",
    "it axially, as seen in Figure 1. Hooke's law relates the force applied to strain\n",
    "and deflection as such \n",
    "\n",
    "$F^{e} = A^{e}E^{e}\\epsilon^{e} =\n",
    "A^{e}E^{e}\\frac{\\delta^{e}}{l^{e}}=k^{e}\\delta^{e}$\n",
    "(1)\n",
    "\n",
    "where $k^{e}$ is the stiffness (force/displacement) of each element, $E^{e}$ is\n",
    "the Young's modulus of each element, $\\epsilon^{e}$ is the strain in each\n",
    "element, $\\delta^{e}$ is the change in length of each element, and $l^{e}$ is\n",
    "the original length of each element. Considering the displacement of each node,\n",
    "$u_{i}$, the force on the element 1 is formed as such\n",
    "\n",
    "$\\left[\\begin{array}{c} F_{1} \\\\ F_{2}\\end{array}\\right] =\n",
    "\\left[\\begin{array}{c c} k^{e} & -k^{e}\\\\ -k^{e} & k^{e}\\end{array}\\right]\n",
    "\\left[\\begin{array}{c} u_{1} \\\\ u_{2}\\end{array}\\right]$ (2)\n",
    "\n",
    "where $F_1$ and $F_2$ are the forces on nodes 1 and 2, respectively, and $u_1$\n",
    "and $u_2$ are the displacements of nodes 1 and 2, respectively. "
   ]
  },
  {
   "cell_type": "markdown",
   "metadata": {},
   "source": [
    "![Figure 1: Diagram of axial loads on a beam made of one finite element.](./figure_01.png)\n",
    "\n",
    "*Figure 1: Diagram of axial loads on a beam made of one finite element.*"
   ]
  },
  {
   "cell_type": "markdown",
   "metadata": {},
   "source": [
    "### Predicting Natural Frequencies\n",
    "\n",
    "In this lab you will use Ansys to predict natural frequencies of the\n",
    "rectangular cantilever\n",
    "beam. In finite element analysis (FEA), this is called a modal\n",
    "analysis. In any FEA simulation, there are three steps: pre-process, solve, and\n",
    "post-process. Here are the steps in a FEA modal analysis [(2)](./Ansys_Modal-Analysis.pdf):\n",
    "\n",
    "1. Pre-process\n",
    "  \n",
    "  a. Define material constants\n",
    "\n",
    "  b. Create geometric model\n",
    "\n",
    "  c. Define boundary conditions\n",
    "\n",
    "  d. Mesh the model (turn the continuous volume into discrete nodes and elements)\n",
    "\n",
    "2. Solve\n",
    "\n",
    "  a. Assemble stiffness matrix, $K$\n",
    "\n",
    "  b. Assemble mass matrix, $M$\n",
    "\n",
    "  c. solve the eigenvalue problem, $Ku=\\lambda M u$\n",
    "\n",
    "3. Post-process\n",
    "  \n",
    "  a. Determine natural frequencies\n",
    "\n",
    "  a. Plot mode shapes\n",
    "\n",
    "  b. Determine maximum displacement/acceleration for each mode\n",
    "\n",
    "  c. Determine maximum stress and strain for each mode"
   ]
  },
  {
   "cell_type": "markdown",
   "metadata": {},
   "source": [
    "### Two Degree of Freedom Modal Analysis Example\n",
    "\n",
    "The solution for a modal analysis is accomplished by solving for eigenvalues of\n",
    "the mass and stiffness matrices, $\\bar{\\bar{M}}$ and $\\bar{\\bar{K}}$, respectively [(3)](https://books.google.com/books/about/Engineering_Vibration.html?id=OCg-XwAACAAJ). The output is a\n",
    "number of eigenvalues, or natural frequencies, and their corresponding\n",
    "eigenvectors, or mode shapes. As a simple example, consider the lumped mass\n",
    "solution of two masses connected by three springs as seen in Fig. 2. "
   ]
  },
  {
   "cell_type": "markdown",
   "metadata": {},
   "source": [
    "![Figure 2: Two masses connected to 3 springs](./spring_mass.png)\n",
    "\n",
    "*Figure 2: Two masses connected to 3 springs*"
   ]
  },
  {
   "cell_type": "markdown",
   "metadata": {},
   "source": [
    "In the 2-mass system, we have 2 degrees of freedom, so there are 2 differential\n",
    "equations that describe the motion of masses as such\n",
    "\n",
    "$m_1 \\ddot{x}_1 = -k_1x_1-k_2(x_1-x_2)$  (3a)\n",
    "\n",
    "$m_2 \\ddot{x}_2 = -k_3x_2-k_2(x_2-x_1)$  (3b)\n",
    "\n",
    "where masses 1 and 2 have mass $m_1$ and $m_2$, respectively, and springs 1, 2,\n",
    "and 3 have stiffness $k_1$, $k_2$, and $k_3$, respectively. The differential\n",
    "equations relate acceleration of mass 1 and mass 2, $\\ddot{x}_1$\n",
    "and$\\ddot{x}_2$, to displacement, $x_1$ and $x_2$. The mass and stiffness\n",
    "matrices for this problem becomes\n",
    "\n",
    "$\\bar{\\bar{M}}\\frac{d^2\\bar{x}}{dt^2}=-\\bar{\\bar{K}}\\bar{x}$ (4a)\n",
    "\n",
    "$\\left[\\begin{array}{cc}\n",
    "m_1 & 0 \\\\\n",
    "0 & m_2 \\end{array}\\right]\n",
    "\\frac{d^2}{dt^2}\\left[\\begin{array}{c}\n",
    "x_1 \\\\\n",
    "x_2 \\end{array}\\right]=\n",
    "-\\left[\\begin{array}{cc}\n",
    "k_1+k_2 & -k_2 \\\\\n",
    "-k_2 & k_2+k_3 \\end{array}\\right]\n",
    "\\left[\\begin{array}{c}\n",
    "x_1 \\\\\n",
    "x_2 \\end{array}\\right]$  (4b)"
   ]
  },
  {
   "cell_type": "markdown",
   "metadata": {},
   "source": [
    "The solution for $\\bar{x}$ will be a combination of sine and cosine functions at\n",
    "given natural frequencies, depending upon initial conditions, substituting\n",
    "$\\bar{x}=\\bar{u}\\sin(\\omega t)$ Eqn 4b becomes\n",
    "\n",
    "$-\\omega^2\\left[\\begin{array}{cc}\n",
    "m_1 & 0 \\\\\n",
    "0 & m_2 \\end{array}\\right]\n",
    "\\left[\\begin{array}{c}\n",
    "u_1 \\\\\n",
    "u_2 \\end{array}\\right] \\sin\\omega t=\n",
    "-\\left[\\begin{array}{cc}\n",
    "k_1+k_2 & -k_2 \\\\\n",
    "-k_2 & k_2+k_3 \\end{array}\\right]\n",
    "\\left[\\begin{array}{c}\n",
    "u_1 \\\\\n",
    "u_2 \\end{array}\\right]\\sin\\omega t$  (5)\n",
    "\n",
    "where $u_1$ and $u_2$ are amplitudes of the sine function and $\\omega$ is the\n",
    "natural frequency. Now, the two ordinary differential equations have been\n",
    "converted to one eigenvalue problem. The eigenvalues, of $\\bar{\\bar{M}}$ and\n",
    "$\\bar{\\bar{K}}$ are equal to the natural frequencies squared. In the following\n",
    "example, the natural frequencies for $m_1=m_2$ = 0.2 kg and $k_1=k_2=k_3$ = 500\n",
    "N/m. "
   ]
  },
  {
   "cell_type": "code",
   "execution_count": 2,
   "metadata": {},
   "outputs": [
    {
     "name": "stdout",
     "output_type": "stream",
     "text": [
      "1st natural frequency is 11 Hz,      mode shape: 1*x1(t)=1*x2(t)\n",
      "2nd natural frequency is 19 Hz,     mode shape: -1*x1(t)=1*x2(t)\n"
     ]
    }
   ],
   "source": [
    "m1=m2=0.1 # 0.2 kg\n",
    "k1=k2=k3=500 # 500 N/m\n",
    "\n",
    "M=np.array([[m1,0],[0,m2]])\n",
    "K=np.array([[k1+k2,-k2],[-k2,k2+k3]])\n",
    "e,v=linalg.eig(K,M)\n",
    "w1=np.sqrt(e[0].real)/2/pi\n",
    "v1=v[:,0]/max(v[:,0])\n",
    "\n",
    "w2=np.sqrt(e[1].real)/2/pi\n",
    "v2=v[:,1]/max(v[:,1])\n",
    "print('1st natural frequency is %1.0f Hz, \\\n",
    "     mode shape: %1.0f*x1(t)=%1.0f*x2(t)'%(w1,v1[0],v1[1]))\n",
    "print('2nd natural frequency is %1.0f Hz, \\\n",
    "    mode shape: %1.0f*x1(t)=%1.0f*x2(t)'%(w2,v2[0],v2[1]))"
   ]
  },
  {
   "cell_type": "code",
   "execution_count": 3,
   "metadata": {},
   "outputs": [
    {
     "data": {
      "text/plain": [
       "array([11.25395395+0.j, 19.49242003+0.j])"
      ]
     },
     "execution_count": 3,
     "metadata": {},
     "output_type": "execute_result"
    }
   ],
   "source": [
    "np.sqrt(e)/2/pi"
   ]
  },
  {
   "cell_type": "markdown",
   "metadata": {},
   "source": [
    "![Figure 3: Vibration modes of 2-mass system when masses are 200 g and 3 springs have stiffness k=500 N/m](./eigenvalues.gif)\n",
    "\n",
    "*Figure 3: Vibration modes of 2-mass system when masses are 200 g and 3 springs have stiffness k=500 N/m. The first and second modes are animated on the left and right, respectively.*"
   ]
  },
  {
   "cell_type": "markdown",
   "metadata": {},
   "source": [
    "The amplitudes of the displacements will be proportional to the initial\n",
    "velocities. A **modal analysis** is concerned with the natural frequencies and\n",
    "mode shapes. This example has two modes (because it has two degrees of freedom).\n",
    "In mode one, the displacement of mass 1 is equal to mass 2  and $\\omega_{1}=\\sqrt{(k_1+k_2)/(m_1+m_2)}$. In mode two, the\n",
    "displacement of mass 1 is equal and opposite to mass 2 and $\\omega_{2}=\\sqrt{2(k_1+k_2+k_3)/(m_1+m_2)}$. The natural frequencies\n",
    "are 8 and 14 Hz, for mode 1 and 2, respectively."
   ]
  },
  {
   "cell_type": "markdown",
   "metadata": {},
   "source": [
    "### FEA modal analysis\n",
    "\n",
    "In the FEA modal analysis, each element is composed of 8 nodes (for hexahedrals) that are shared\n",
    "by adjoining elements. Each node can move in three dimensions, which means the\n",
    "total degrees of freedom of the system is $3\\times$(number of nodes). So the\n",
    "eigenvalue solution would reveal $3\\times$(number of nodes) natural frequencies\n",
    "and vibration modes. We cannot use the high vibration mode results because they\n",
    "will not be accurate, but the lowest vibration modes will become more accurate\n",
    "as we increase the number of nodes in the system. This is called \"convergence\".\n",
    "The ideal FEA solution will reproduce our analytical or experimental results.\n",
    "Table 1 demonstrates the convergence of the first natural frequency for a beam\n",
    "where E=200 GPa, L=300 mm, t=3 mm, w=12 mm, and $\\rho$=8050 kg/m^3. \n",
    "\n",
    "*Table 1: Convergence of the first natural frequency for a steel beam \n",
    "where E=200 GPa, L=300 mm, t=3 mm, w=12 mm, and $\\rho$=8050 kg/m^3. Error is calculated based upon best estimate $f_{best}$ and analytical prediction $f_{an}$.* \n",
    "\n",
    "|# of nodes | first natural Frequency (Hz) | relative error $|f_{best}-f_{prev}|/f_{best}$ | absolute error $|f_{an}-f_{best}|/f_{an}$|\n",
    "|--- | --- | --- |---|\n",
    "|1153| 26.252 |  | 0.020\n",
    "|1438 | 26.243 | 3.4e-4 |0.021 |\n",
    "|1913 | 26.235 | 3.1e-4 |0.021|\n",
    "|3621 | 26.219 | 3.1e-4 |0.021|\n",
    "|4521 | 26.218 | 6.5e-4 |0.0217|\n",
    "|10,437|26.217 |3.8e-5  |0.0218|\n",
    "|21,351 | 26.215 |7.6e-5|0.0218|"
   ]
  },
  {
   "cell_type": "code",
   "execution_count": 4,
   "metadata": {},
   "outputs": [
    {
     "data": {
      "text/plain": [
       "Text(0, 0.5, 'relative error')"
      ]
     },
     "execution_count": 4,
     "metadata": {},
     "output_type": "execute_result"
    },
    {
     "data": {
      "image/png": "[encoded data removed]",
      "text/plain": [
       "<Figure size 432x288 with 1 Axes>"
      ]
     },
     "metadata": {
      "needs_background": "light"
     },
     "output_type": "display_data"
    }
   ],
   "source": [
    "n=np.array([1153,  1438,  1913,  3621,   4521,   10437, 15316,  17801, 21351])\n",
    "f=np.array([26.252,26.243,26.235,26.219, 26.218, 26.217,26.216, 26.215,26.215])\n",
    "rel_error= np.abs(f[1:]-f[0:-1])/f[1:]\n",
    "abs_error= np.abs(f-26.8)/26.8\n",
    "plt.loglog(n[1:],rel_error,'o-')\n",
    "plt.xlabel('number of nodes')\n",
    "plt.ylabel('relative error')"
   ]
  },
  {
   "cell_type": "code",
   "execution_count": 5,
   "metadata": {},
   "outputs": [
    {
     "data": {
      "text/plain": [
       "Text(0, 0.5, 'absolute error')"
      ]
     },
     "execution_count": 5,
     "metadata": {},
     "output_type": "execute_result"
    },
    {
     "data": {
      "image/png": "[encoded data removed]",
      "text/plain": [
       "<Figure size 432x288 with 1 Axes>"
      ]
     },
     "metadata": {
      "needs_background": "light"
     },
     "output_type": "display_data"
    }
   ],
   "source": [
    "plt.loglog(n,abs_error,'o-')\n",
    "plt.xlabel('number of nodes')\n",
    "plt.ylabel('absolute error')"
   ]
  },
  {
   "cell_type": "markdown",
   "metadata": {},
   "source": [
    "After 4,000 degrees of freedom, the first natural frequency mode has converged\n",
    "(the relative error is stable and the absolute error has diminishing returns). The absolute error compares the analytical model\n",
    "to the FEA model. There is a stable 2.2 % error in the frequencies predicted\n",
    "from Euler-Lagrange beam theory and 3D FEA. **Make sure each reported frequency\n",
    "has converged, demonstrate convergence in your report**. \n",
    "\n",
    "Check the accuracy of your model in 3 ways: \n",
    "\n",
    "1. Check convergence of your results (convergence)\n",
    "\n",
    "2. Compare FEA results to analytical model (verification)\n",
    " \n",
    "3. Compare FEA results to experimental results (validation)\n",
    "\n",
    "Method 1 proves that your results are repeatable. Method 2 is a verification of\n",
    "your model. Verification of a model proves that with different methods, the\n",
    "assumptions in your model will converge to the same solution. Method 3 is a\n",
    "validation of your model. Validation uses measured results to confirm your model\n",
    "is correct. For many engineering structures, method 2 is not feasible. Instead,\n",
    "we check convergence with method 1 and validate the model with experimental\n",
    "results. Here, we are using natural frequencies as our comparison metric. \n",
    "\n",
    "The other method we will use to confirm our results is to look at the mode shape\n",
    "and the strain or acceleration at the point of measurement. We can probe the\n",
    "value of a given measurement in the FEA results. The absolute value of\n",
    "the result will depend upon the amplitude of the impulse applied (from the\n",
    "hammer), but we can compare relative amplitudes based upon the frequency mode.\n",
    "In the example used previously, 300-by-12-by-3 mm^3 steel beam (10,437 nodes),\n",
    "the amplitude of axial strain on the top surface 11 mm from the support is given\n",
    "for the first 3 vibration modes in Table 2. The mode 2 axial strain is nominally\n",
    "zero. This is the first torsion vibration mode. In order to measure this response\n",
    "we would need a different experimental setup. "
   ]
  },
  {
   "cell_type": "markdown",
   "metadata": {},
   "source": [
    "*Table 2: Relative amplitude of axial strain for first three modes on top\n",
    "surface for a steel beam where E=200 GPa, L=300 mm, t=3 mm, w=12 mm, and\n",
    "$\\rho$=8050 kg/m^3.* \n",
    "\n",
    "|mode | amplitude of strain (%)|\n",
    "|--- | ---|\n",
    "|1 | 1.2 |\n",
    "|2 | 0.005 |\n",
    "|3 | -6.5 |"
   ]
  },
  {
   "cell_type": "markdown",
   "metadata": {},
   "source": [
    "# References\n",
    "\n",
    "1. Fish, J. and Belytschko, T. A First Course in Finite Elements. Wiley 2007.\n",
    "\n",
    "2. [Ansys help topic: Modal Analysis](./Ansys_Modal-Analysis.pdf)\n",
    "\n",
    "3.  Engineering Vibration, D. J. Inman, Ch. 4 Multiple-Degree-of-Freedom Systems. Prentice Hall."
   ]
  }
 ],
 "metadata": {
  "kernelspec": {
   "display_name": "Python 3",
   "language": "python",
   "name": "python3"
  },
  "language_info": {
   "codemirror_mode": {
    "name": "ipython",
    "version": 3
   },
   "file_extension": ".py",
   "mimetype": "text/x-python",
   "name": "python",
   "nbconvert_exporter": "python",
   "pygments_lexer": "ipython3",
   "version": "3.8.3"
  }
 },
 "nbformat": 4,
 "nbformat_minor": 4
}
