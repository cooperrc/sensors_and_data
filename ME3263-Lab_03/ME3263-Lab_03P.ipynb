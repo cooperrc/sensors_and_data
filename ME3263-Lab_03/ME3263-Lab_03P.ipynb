{
 "cells": [
  {
   "cell_type": "markdown",
   "id": "6df6c5d9",
   "metadata": {},
   "source": [
    "# Laboratory 3 - Procedure\n",
    "\n",
    "\n",
    "In this lab, you will measure the first 3 natural frequencies, $\\omega_n$, of a rectangular beam using strain gauge data. \n",
    "Your goal is \n",
    "to measure the free response time series data using a strain gauge. With this data, you will\n",
    "determine the first natural frequency in two ways: \n",
    "\n",
    "- (i) by peak counting in the time domain (which gives a very rough estimate of $\\omega_n$)\n",
    "- (ii) by a formal frequency domain analysis, using the [fast Fourier transform](https://en.wikipedia.org/wiki/Fast_Fourier_transform) (FFT). \n",
    "\n",
    "For a rectangular beam, analytic expressions of the natural frequencies exist,\n",
    "and you can confirm that you're doing everything properly by getting the\n",
    "analytical frequencies to agree with the experimental frequencies."
   ]
  },
  {
   "cell_type": "markdown",
   "id": "4fa2b6f3",
   "metadata": {},
   "source": [
    "# Task 0 - LabView Prep\n",
    "\n",
    "- __Familiarize yourself with the LabView frequency interface__. Give the beam an impulse, and watch the output. What happens when you change the sampling frequency? What happens when you change the sampling duration?\n",
    "\n",
    "\n",
    "- You may need to __change the output directory for the LabView VI__. Bring up the block diagram with CTRL+E, and right-click on the \"Write To Measurement File\" block. You will be able to select a directory. Your desktop, or any other easily accessible location, is ideal. You will need to keep some of the output data."
   ]
  },
  {
   "cell_type": "markdown",
   "id": "3cfb79ff",
   "metadata": {},
   "source": [
    "# Task 1 - Calculating Natural Frequencies\n",
    "\n",
    "- __Calculate the theoretical values__ for the first three natural frequencies of your beam using equation 1. \n",
    "\n",
    "    $\\omega_i=\\beta_i^2\\sqrt{\\frac{EI}{\\bar{m}L^4}}$         (1)\n",
    "\n",
    "$\\omega_i$ is the $i^{th}$ __natural frequency__, given in rad/s.\n",
    "\n",
    "$\\bar{m}$ is the __mass per unit length__ of the beam - you can look up the density of your material, and measure the beam's dimensions \n",
    "\n",
    "$E$ is the __Young's modulus__ of the material - you calculated this last lab.\n",
    "\n",
    "$\\beta_i$ is a __constant__ corresponding to the $i^{th}$ natural frequency and vibration mode:$\\beta_1=1.875104$, $\\beta_2=4.694091$, $\\beta_3=7.854757$\n"
   ]
  },
  {
   "cell_type": "markdown",
   "id": "a177c233",
   "metadata": {},
   "source": [
    "# Task 2 - Finding the First Natural Frequency in the Time Domain\n",
    "\n",
    "- __Record data__ in LabView for an impulse response of your beam. Keep in mind the Nyquist frequency discussed in the _Background and Resources_ notebook. Adjust your sampling frequency if necessary until you see a \"smooth\" output.\n",
    "\n",
    "\n",
    "- Either from LabView itself or from the spreadsheet output, __calculate $\\omega_1$__. You can do this by inspection - how may amplitude peaks do you see per unit time?\n",
    "\n",
    "\n",
    "- Does your observation match your prediction?\n",
    "\n",
    "\n",
    "\n"
   ]
  },
  {
   "cell_type": "markdown",
   "id": "b78e0e73",
   "metadata": {},
   "source": [
    "# Task 3 - Finding Natural Frequencies with the Fast Fourier Transform\n",
    "\n",
    "-  __Perform a fast Fourier transform__ (FFT) on your data, using either Python or Matlab\n",
    "\n",
    "\n",
    "- Inspect the graph of the FFT to __find $\\omega_1$, $\\omega_2$, and $\\omega_3$__.\n",
    "\n",
    "\n",
    "-  __Keep in mind__ the following:\n",
    "\n",
    "\n",
    "1.  There is noise in your data. If the mean of that noise is non-zero, you may want to adjust it to eliminate systematic error. A constant offset will show up as a spike at zero in your FFT - it is changing at 0 Hz, in other words not at all. You can remove this error by subtracting the mean of your data from your data.\n",
    "\n",
    "1.  As explained in the _Background and Resources_ notebook, your FFT will be mirrored. Disregard any frequency spikes above one-half of your sampling frequency. You may wish to restrict your data plots to an appropriate interval to make things easier to see.\n",
    "\n",
    "1.  Peaks two and three will get progressively smaller. They can be made larger by applying your impulse to the proper spot of the beam. Refer to Figure 1 in the _Background and Resources_ notebook. You will want to strike your beam at the point of largest deflection. In other words, between the stationary nodes.\n",
    "\n",
    "1.  Performing an FFT on a very long sample of data will amplify the noise inherent in the signal. It is sometimes advantageous to \"window\" your data, extracting a shorter sample to use for analysis.\n",
    "\n",
    "1.  If you have trouble seeing the higher modes, try experimenting with windowing your data and striking the beam in different ways.\n"
   ]
  }
 ],
 "metadata": {
  "kernelspec": {
   "display_name": "Python 3",
   "language": "python",
   "name": "python3"
  },
  "language_info": {
   "codemirror_mode": {
    "name": "ipython",
    "version": 3
   },
   "file_extension": ".py",
   "mimetype": "text/x-python",
   "name": "python",
   "nbconvert_exporter": "python",
   "pygments_lexer": "ipython3",
   "version": "3.8.8"
  }
 },
 "nbformat": 4,
 "nbformat_minor": 5
}
